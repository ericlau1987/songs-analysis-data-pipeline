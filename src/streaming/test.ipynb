{
 "cells": [
  {
   "cell_type": "code",
   "execution_count": 96,
   "metadata": {},
   "outputs": [],
   "source": [
    "import yaml\n",
    "import json\n",
    "\n",
    "from pyspark.sql import SparkSession, DataFrame\n",
    "from pyspark.sql.types import StructType, StructField, LongType, IntegerType, StringType, FloatType, BooleanType\n",
    "import pyspark.sql.functions as F"
   ]
  },
  {
   "cell_type": "code",
   "execution_count": 98,
   "metadata": {},
   "outputs": [],
   "source": [
    "with open('streaming_config.yml', 'r') as file:\n",
    "    config = yaml.safe_load(file)\n",
    "\n",
    "# print(config)\n",
    "\n",
    "BOOTSTRAP_SERVERS = config['kafka']['bootstrap_servers']\n",
    "TOPIC = 'auth_events'\n",
    "SCHEMA = config['kafka']['topics'][TOPIC]['schema']\n",
    "\n",
    "SPARK_JARS_PACKAGES = config['spark']['spark_jars_packages']"
   ]
  },
  {
   "cell_type": "code",
   "execution_count": 99,
   "metadata": {},
   "outputs": [],
   "source": [
    "import os\n",
    "os.environ['PYSPARK_SUBMIT_ARGS'] = f'--packages {SPARK_JARS_PACKAGES}'"
   ]
  },
  {
   "cell_type": "code",
   "execution_count": 101,
   "metadata": {},
   "outputs": [
    {
     "name": "stdout",
     "output_type": "stream",
     "text": [
      "25/01/15 11:38:31 WARN SparkSession: Using an existing Spark session; only runtime SQL configurations will take effect.\n"
     ]
    }
   ],
   "source": [
    "from pyspark.sql import SparkSession\n",
    "import pyspark.sql.types as T\n",
    "import pyspark.sql.functions as F\n",
    "\n",
    "spark = SparkSession \\\n",
    "    .builder \\\n",
    "    .appName(f\"song-streaming-data-pipeline-{TOPIC}\") \\\n",
    "    .config(\"spark.jars.packages\", SPARK_JARS_PACKAGES) \\\n",
    "    .getOrCreate()\n",
    "    \n",
    "spark.sparkContext.setLogLevel(\"INFO\")"
   ]
  },
  {
   "cell_type": "code",
   "execution_count": 48,
   "metadata": {},
   "outputs": [],
   "source": [
    "def create_schema(schema_str:str):\n",
    "    # This is a safer way to evaluate the schema string\n",
    "    # Note: In production, you might want to add more security measures\n",
    "    schema_dict = {\n",
    "        'StructType': StructType,\n",
    "        'StructField': StructField,\n",
    "        'StringType': StringType,\n",
    "        'IntegerType': IntegerType,\n",
    "        'LongType': LongType,\n",
    "        'FloatType': FloatType,\n",
    "        'BooleanType': BooleanType\n",
    "    }\n",
    "    \n",
    "    # schema_str = load_schema_from_yaml('streaming_config.yml')\n",
    "    return eval(schema_str, schema_dict)\n",
    "\n",
    "def sink_console(df, output_mode: str = 'complete', processing_time: str = '5 seconds'):\n",
    "    write_query = df.writeStream \\\n",
    "        .outputMode(output_mode) \\\n",
    "        .trigger(processingTime=processing_time) \\\n",
    "        .format(\"console\") \\\n",
    "        .option(\"truncate\", False) \\\n",
    "        .start()\n",
    "    return write_query \n",
    "\n",
    "def sink_memory(df, query_name, query_template):\n",
    "    write_query = df \\\n",
    "        .writeStream \\\n",
    "        .queryName(query_name) \\\n",
    "        .format('memory') \\\n",
    "        .start()\n",
    "    query_str = query_template.format(table_name=query_name)\n",
    "    query_results = spark.sql(query_str)\n",
    "    return write_query, query_results\n",
    "\n",
    "def prepare_dataframe_to_kafka_sink(dataframe: DataFrame, key_columns: list, value_columns: list) -> DataFrame:\n",
    "    \n",
    "    dataframe = dataframe.withColumn(\"value\", F.to_json(F.struct(*[c for c in dataframe.columns if c != 'key'])))\n",
    "    # dataframe = dataframe.withColumn(\"value\", F.concat('{', F.col('value'), '}'))\n",
    "    return dataframe.select(['key', \"value\"])\n",
    "\n",
    "def sink_kafka(dataframe: DataFrame, topic: str, output_mode: str = 'append', kafka_bootstrap_servers: str = 'broker:29092', kafka_checkpoint_location: str = 'checkpoint'):\n",
    "    write_query = dataframe.writeStream \\\n",
    "        .outputMode(output_mode) \\\n",
    "        .format(\"kafka\") \\\n",
    "        .option(\"kafka.bootstrap.servers\", kafka_bootstrap_servers) \\\n",
    "        .option(\"topic\", topic) \\\n",
    "        .option(\"checkpointLocation\", kafka_checkpoint_location) \\\n",
    "        .start()\n",
    "    return write_query\n"
   ]
  },
  {
   "cell_type": "code",
   "execution_count": 49,
   "metadata": {},
   "outputs": [],
   "source": [
    "df_kafka_raw = spark \\\n",
    "    .readStream \\\n",
    "    .format(\"kafka\") \\\n",
    "    .option(\"kafka.bootstrap.servers\", \"broker:29092\") \\\n",
    "    .option(\"subscribe\", \"auth_events\") \\\n",
    "    .option(\"startingOffsets\", \"earliest\") \\\n",
    "    .option(\"checkpointLocation\", \"checkpoint1\") \\\n",
    "    .load()"
   ]
  },
  {
   "cell_type": "code",
   "execution_count": 93,
   "metadata": {},
   "outputs": [],
   "source": [
    "auth_events_schema = json.loads(json.dumps(SCHEMA))\n",
    "auth_events_schema = create_schema(auth_events_schema)"
   ]
  },
  {
   "cell_type": "code",
   "execution_count": 95,
   "metadata": {},
   "outputs": [],
   "source": [
    "df_kafka_encoded = df_kafka_raw.selectExpr(\"CAST(key AS STRING)\", \"CAST(value AS STRING)\")\n",
    "df_kafka_encoded = df_kafka_encoded.withColumn('json_value', F.from_json('value', auth_events_schema)).select('key', 'value', 'json_value.*')\n",
    "df_kafka_encoded = df_kafka_encoded.withColumn('ts', F.col('ts')/1000)\n",
    "df_kafka_encoded = df_kafka_encoded.withColumn('ts', F.from_unixtime(F.col('ts'), 'yyyy-MM-dd HH:mm:ss.SSSSSS'))\n",
    "df_kafka_encoded = df_kafka_encoded.withColumn('key', F.hash('userId', 'sessionId', 'ts'))\n",
    "df_kafka_encoded = df_kafka_encoded.drop('value')\n",
    "df_kafka_encoded = df_kafka_encoded.withColumn('key', df_kafka_encoded.key.cast(T.StringType()))"
   ]
  },
  {
   "cell_type": "code",
   "execution_count": null,
   "metadata": {},
   "outputs": [],
   "source": [
    "df_sink_kafka = prepare_dataframe_to_kafka_sink(df_kafka_encoded, key_columns=['key'], value_columns=['ts', 'sessionId', 'level', 'itemInSession', 'city', 'zip', 'state', 'userAgent', 'lon', 'lat', 'userId', 'lastName', 'firstName', 'gender', 'registration', 'tag', 'success'])\n",
    "# write_query = sink_console(df_sink_kafka, output_mode='append')\n",
    "# df_sink_kafka.printSchema()\n",
    "write_query = sink_kafka(df_sink_kafka, output_mode='complete', topic='auth_events_transformed')\n",
    "# write_query.show()\n",
    "write_query.awaitTermination(5)"
   ]
  },
  {
   "cell_type": "code",
   "execution_count": null,
   "metadata": {},
   "outputs": [],
   "source": [
    "write_query.stop()"
   ]
  }
 ],
 "metadata": {
  "kernelspec": {
   "display_name": "Python 3 (ipykernel)",
   "language": "python",
   "name": "python3"
  },
  "language_info": {
   "codemirror_mode": {
    "name": "ipython",
    "version": 3
   },
   "file_extension": ".py",
   "mimetype": "text/x-python",
   "name": "python",
   "nbconvert_exporter": "python",
   "pygments_lexer": "ipython3",
   "version": "3.12.3"
  }
 },
 "nbformat": 4,
 "nbformat_minor": 2
}
