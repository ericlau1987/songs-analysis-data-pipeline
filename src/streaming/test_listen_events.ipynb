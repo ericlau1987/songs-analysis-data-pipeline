{
 "cells": [
  {
   "cell_type": "code",
   "execution_count": 6,
   "metadata": {},
   "outputs": [],
   "source": [
    "import yaml\n",
    "\n",
    "from pyspark.sql import SparkSession, DataFrame\n",
    "from pyspark.sql.types import StructType, StructField, LongType, IntegerType, StringType, FloatType, BooleanType\n",
    "import pyspark.sql.functions as F\n",
    "\n",
    "from SongSparkStreaming import SongSparkStreaming\n",
    "from utils import *"
   ]
  },
  {
   "cell_type": "code",
   "execution_count": 7,
   "metadata": {},
   "outputs": [],
   "source": [
    "with open('streaming_config.yml', 'r') as file:\n",
    "    config = yaml.safe_load(file)\n",
    "\n",
    "BOOTSTRAP_SERVERS = config['kafka']['bootstrap_servers']\n",
    "TOPIC = 'listen_events'\n",
    "SCHEMA = config['kafka']['topics'][TOPIC]['schema']\n",
    "SPARK_JARS_PACKAGES = config['spark']['spark_jars_packages']\n",
    "STARTING_OFFSETS = config['kafka']['starting_offsets']\n",
    "STREAMING_KEY_COLUMNS = config['kafka']['topics'][TOPIC]['key_columns']"
   ]
  },
  {
   "cell_type": "code",
   "execution_count": 8,
   "metadata": {},
   "outputs": [],
   "source": [
    "import os\n",
    "os.environ['PYSPARK_SUBMIT_ARGS'] = f'--packages {SPARK_JARS_PACKAGES}'"
   ]
  },
  {
   "cell_type": "code",
   "execution_count": null,
   "metadata": {},
   "outputs": [],
   "source": [
    "\n",
    "song_spark_streaming = SongSparkStreaming(\n",
    "    topic=TOPIC, \n",
    "    schema=SCHEMA,\n",
    "    spark_app_name='listen_events_transformed',\n",
    "    spark_jars_packages=SPARK_JARS_PACKAGES, \n",
    "    kafka_bootstrap_servers=BOOTSTRAP_SERVERS,\n",
    "    starting_offsets=STARTING_OFFSETS,\n",
    "    fail_on_data_loss=False\n",
    "    )\n",
    "\n",
    "df = song_spark_streaming.read()\n",
    "\n",
    "#Transform data\n",
    "df = transform_epcho_to_timestamp(df, 'ts')\n",
    "df = hash_key(df, STREAMING_KEY_COLUMNS)\n",
    "df = df.drop('value')\n",
    "df = df.withColumn('key', df.key.cast(StringType()))\n",
    "\n",
    "kafka_writer = song_spark_streaming.write_to_kafka(df, topic=f'{TOPIC}_transformed')\n",
    "\n",
    "song_spark_streaming.spark.streams.awaitAnyTermination()"
   ]
  },
  {
   "cell_type": "code",
   "execution_count": null,
   "metadata": {},
   "outputs": [],
   "source": [
    "kafka_writer.stop()"
   ]
  }
 ],
 "metadata": {
  "kernelspec": {
   "display_name": "Python 3 (ipykernel)",
   "language": "python",
   "name": "python3"
  }
 },
 "nbformat": 4,
 "nbformat_minor": 2
}
